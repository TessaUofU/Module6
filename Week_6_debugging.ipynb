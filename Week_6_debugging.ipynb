{
 "cells": [
  {
   "cell_type": "code",
   "execution_count": 1,
   "id": "e45a4216",
   "metadata": {},
   "outputs": [
    {
     "name": "stdout",
     "output_type": "stream",
     "text": [
      "we are making an error in the loop\n",
      "the correct answer is suppposed to be: [2, 3, 4]\n"
     ]
    },
    {
     "data": {
      "text/plain": [
       "[6, 2, 3]"
      ]
     },
     "execution_count": 1,
     "metadata": {},
     "output_type": "execute_result"
    }
   ],
   "source": [
    "# 1.A \n",
    "\n",
    "def wrong_add_function(arg1,arg2):\n",
    "   arg1_index=0\n",
    "   while arg1_index < len(arg1):\n",
    "      arg_2_sum = 0\n",
    "      for arg2_elements in arg2:\n",
    "          arg_2_sum = sum([arg1[arg1_index]+i for i in arg2])\n",
    "          print(\"we are making an error in the loop\") \n",
    "          print(f\"the correct answer is suppposed to be: {cor}\")\n",
    "          break\n",
    "      arg1[arg1_index]=arg_2_sum\n",
    "      arg1_index+=1\n",
    "      break\n",
    "   return arg1\n",
    "\n",
    "arg1 = [1,2,3]\n",
    "arg2 = [1,1,1]\n",
    "cor = [2,3,4]\n",
    "\n",
    "wrong_add_function(arg1, arg2)"
   ]
  },
  {
   "cell_type": "code",
   "execution_count": 2,
   "id": "5cac3467",
   "metadata": {},
   "outputs": [
    {
     "data": {
      "text/plain": [
       "[2, 3, 4]"
      ]
     },
     "execution_count": 2,
     "metadata": {},
     "output_type": "execute_result"
    }
   ],
   "source": [
    "# 1.B\n",
    "\n",
    "def correct_add_function(arg1,arg2):\n",
    "   arg1_index=0\n",
    "   while arg1_index < len(arg1):\n",
    "      arg_2_sum = 0\n",
    "      for arg2_elements in arg2:\n",
    "          arg_2_sum = arg1[arg1_index] + arg2[arg1_index]\n",
    "      arg1[arg1_index]=arg_2_sum\n",
    "      arg1_index+=1\n",
    "   return arg1\n",
    "\n",
    "arg1 = [1,2,3]\n",
    "arg2 = [1,1,1]\n",
    "\n",
    "correct_add_function(arg1, arg2)"
   ]
  },
  {
   "cell_type": "code",
   "execution_count": 3,
   "id": "8fca6219",
   "metadata": {},
   "outputs": [
    {
     "data": {
      "text/plain": [
       "[4, 5, 6]"
      ]
     },
     "execution_count": 3,
     "metadata": {},
     "output_type": "execute_result"
    }
   ],
   "source": [
    "# 2.A\n",
    "\n",
    "def wrong_add_function(arg1,arg2):\n",
    "\n",
    "   #numeric section\n",
    "   if sum([type(i)==int for i in arg1])==len(arg1) and \\\n",
    "      sum([type(i)==int for i in arg2])==len(arg2):\n",
    "         arg1_index=0\n",
    "         while arg1_index < len(arg1):\n",
    "            arg_2_sum = 0\n",
    "            for arg2_elements in arg2:\n",
    "               arg_2_sum = arg1[arg1_index] + sum(arg2)     # I used different code from question 1 to obtain the \n",
    "            arg1[arg1_index]=arg_2_sum                      #  the required answer [4,5,6]\n",
    "            arg1_index+=1\n",
    "         return arg1\n",
    "   #string section\n",
    "   elif sum([type(i)==str for i in arg1])==len(arg1) and \\\n",
    "      sum([type(i)==str for i in arg2])==len(arg2):\n",
    "         arg1_index=0\n",
    "         while arg1_index < len(arg1):\n",
    "            arg_2_sum = ''\n",
    "            for arg2_elements in arg2:\n",
    "               arg_2_sum += arg2_elements\n",
    "            arg1[arg1_index]=arg1[arg1_index]+str(arg_2_sum)\n",
    "            arg1_index+=1\n",
    "         return arg1\n",
    "    \n",
    "arg_str_1=['1','2','3']\n",
    "arg_str_2=['1','1', 1]\n",
    "arg1 = [1,2,3]\n",
    "arg2 = [1,1,1]\n",
    "\n",
    "wrong_add_function(arg1,arg2)"
   ]
  },
  {
   "cell_type": "code",
   "execution_count": 4,
   "id": "085bdc15",
   "metadata": {},
   "outputs": [
    {
     "name": "stdout",
     "output_type": "stream",
     "text": [
      "The element is: <class 'int'>\n",
      "The element is: <class 'str'>\n",
      "Your input argument [1 or 2] at element [n] is not of the expected type. Please change this and rerun.\n"
     ]
    }
   ],
   "source": [
    "#2.B \n",
    "\n",
    "def wrong_add_function(arg1,arg2):\n",
    "\n",
    "   #numeric section\n",
    "   if sum([type(i)==int for i in arg1])==len(arg1) and \\\n",
    "      sum([type(i)==int for i in arg2])==len(arg2):\n",
    "         arg1_index=0\n",
    "         while arg1_index < len(arg1):\n",
    "            arg_2_sum = 0\n",
    "            for arg2_elements in arg2:\n",
    "               arg_2_sum = arg1[arg1_index] + arg2[arg1_index]   \n",
    "            arg1[arg1_index]=arg_2_sum  \n",
    "            arg1_index+=1\n",
    "         return arg1\n",
    "   #string section\n",
    "   elif sum([type(i)==str for i in arg1])==len(arg1) and \\\n",
    "      sum([type(i)==str for i in arg2])==len(arg2):\n",
    "         arg1_index=0\n",
    "         while arg1_index < len(arg1):\n",
    "            arg_2_sum = ''\n",
    "            for arg2_elements in arg2:\n",
    "               arg_2_sum += arg2_elements\n",
    "            arg1[arg1_index]=arg1[arg1_index]+str(arg_2_sum)\n",
    "            arg1_index+=1\n",
    "         return arg1\n",
    "\n",
    "def except_add_function(arg):\n",
    "    try:\n",
    "        i = 0\n",
    "        while i < len(arg):\n",
    "            for i in arg:\n",
    "                print(\"The element is:\" , type(i))\n",
    "                if int(i) == i:\n",
    "                    continue\n",
    "                if str(i) == i:\n",
    "                    break\n",
    "        i = i +1\n",
    "    except:\n",
    "        print(\"Your input argument [1 or 2] at element [n] is not of the expected type. Please change this and rerun.\")      \n",
    "   \n",
    "\n",
    "arg_str_1=['1','2','3']\n",
    "arg_str_2=['1','1', 1]\n",
    "example = [\"5\",\"2\", 5]\n",
    "example2 = [1,2,4]\n",
    "example3 = [\"1\",\"2\",\"3\"]\n",
    "example4 = [1, \"4\" ,5]\n",
    "\n",
    "\n",
    "wrong_add_function(arg_str_1,arg_str_2)\n",
    "\n",
    "except_add_function(example4)"
   ]
  },
  {
   "cell_type": "code",
   "execution_count": 9,
   "id": "fd5f55f1",
   "metadata": {},
   "outputs": [
    {
     "name": "stdout",
     "output_type": "stream",
     "text": [
      "[4, 5, 6]\n",
      "['1111', '2111', '3111']\n"
     ]
    }
   ],
   "source": [
    "#2.C\n",
    "\n",
    "def wrong_add_function(arg1,arg2):\n",
    "\n",
    "   #numeric section\n",
    "   if sum([type(i)==int for i in arg1])==len(arg1) and \\\n",
    "      sum([type(i)==int for i in arg2])==len(arg2):\n",
    "         arg1_index=0\n",
    "         while arg1_index < len(arg1):\n",
    "            arg_2_sum = 0\n",
    "            for arg2_elements in arg2:\n",
    "               arg_2_sum = sum([arg1[arg1_index]+i for i in arg2])\n",
    "            arg1[arg1_index]=arg_2_sum  \n",
    "            arg1_index+=1\n",
    "         return arg1\n",
    "   #string section\n",
    "   elif sum([type(i)==str for i in arg1])==len(arg1) and \\\n",
    "      sum([type(i)==str for i in arg2])==len(arg2):\n",
    "         arg1_index=0\n",
    "         while arg1_index < len(arg1):\n",
    "            arg_2_sum = ''\n",
    "            for arg2_elements in arg2:\n",
    "               arg_2_sum += arg2_elements\n",
    "            arg1[arg1_index]=arg1[arg1_index]+str(arg_2_sum)\n",
    "            arg1_index+=1\n",
    "         return arg1\n",
    "\n",
    "    \n",
    "def correct_add_function(arg1,arg2):\n",
    "    try:\n",
    "        arg1_index=0\n",
    "        while arg1_index < len(arg1):\n",
    "            arg_2_sum = 0\n",
    "            for arg2_elements in arg2:\n",
    "                arg_2_sum = arg1[arg1_index] + sum(arg2)   \n",
    "            arg1[arg1_index]=arg_2_sum  \n",
    "            arg1_index+=1\n",
    "        return arg1\n",
    "    except:\n",
    "        arg1_index=0\n",
    "        while arg1_index < len(arg1):\n",
    "            arg_2_sum = ''\n",
    "            for arg2_elements in arg2:\n",
    "                arg_2_sum += str(arg2_elements)\n",
    "            arg1[arg1_index]=str(arg1[arg1_index])+str(arg_2_sum)\n",
    "            arg1_index+=1\n",
    "        return arg1\n",
    "\n",
    "arg_str_1=['1','2','3']\n",
    "arg_str_2=['1','1', 1]\n",
    "arg3 = [1,2,3]\n",
    "arg4 = [1,1,1]\n",
    "\n",
    "\n",
    "print(correct_add_function(arg3,arg4))\n",
    "\n",
    "print(correct_add_function(arg_str_1,arg_str_2))"
   ]
  },
  {
   "cell_type": "code",
   "execution_count": null,
   "id": "458f1ac9",
   "metadata": {},
   "outputs": [],
   "source": []
  }
 ],
 "metadata": {
  "kernelspec": {
   "display_name": "Python 3 (ipykernel)",
   "language": "python",
   "name": "python3"
  },
  "language_info": {
   "codemirror_mode": {
    "name": "ipython",
    "version": 3
   },
   "file_extension": ".py",
   "mimetype": "text/x-python",
   "name": "python",
   "nbconvert_exporter": "python",
   "pygments_lexer": "ipython3",
   "version": "3.9.12"
  }
 },
 "nbformat": 4,
 "nbformat_minor": 5
}
